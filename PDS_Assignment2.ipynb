{
  "nbformat": 4,
  "nbformat_minor": 0,
  "metadata": {
    "colab": {
      "provenance": []
    },
    "kernelspec": {
      "name": "python3",
      "display_name": "Python 3"
    },
    "language_info": {
      "name": "python"
    }
  },
  "cells": [
    {
      "cell_type": "markdown",
      "source": [
        "##Importing the libraries"
      ],
      "metadata": {
        "id": "9OM8OOsMKtiE"
      }
    },
    {
      "cell_type": "code",
      "source": [
        "import pandas as pd\n",
        "import numpy as np\n",
        "import re\n",
        "from datetime import datetime"
      ],
      "metadata": {
        "id": "7hMEK9nSH2Y-"
      },
      "execution_count": 1,
      "outputs": []
    },
    {
      "cell_type": "markdown",
      "source": [
        "##Loading the Dataset"
      ],
      "metadata": {
        "id": "eQWyVMLYKxyl"
      }
    },
    {
      "cell_type": "code",
      "source": [
        "# Load the dataset\n",
        "df = pd.read_csv('train.csv')"
      ],
      "metadata": {
        "id": "8M8LcnRZH2_E"
      },
      "execution_count": 2,
      "outputs": []
    },
    {
      "cell_type": "markdown",
      "source": [
        "##a)  Look for the missing values in all the columns and either impute them (replace with mean, median, or mode) or drop them. Justify your action for this task."
      ],
      "metadata": {
        "id": "5uluL_pTH-LW"
      }
    },
    {
      "cell_type": "code",
      "source": [
        "missing_summary = df.isnull().sum()\n",
        "print(\"Missing Values:\\n\", missing_summary)"
      ],
      "metadata": {
        "colab": {
          "base_uri": "https://localhost:8080/"
        },
        "id": "5H7XWwepH-nU",
        "outputId": "81da9ad6-ff62-46f2-f706-d1b5fd054f72"
      },
      "execution_count": 3,
      "outputs": [
        {
          "output_type": "stream",
          "name": "stdout",
          "text": [
            "Missing Values:\n",
            " Unnamed: 0              0\n",
            "Name                    0\n",
            "Location                0\n",
            "Year                    0\n",
            "Kilometers_Driven       0\n",
            "Fuel_Type               0\n",
            "Transmission            0\n",
            "Owner_Type              0\n",
            "Mileage                 2\n",
            "Engine                 36\n",
            "Power                  36\n",
            "Seats                  38\n",
            "New_Price            5032\n",
            "Price                   0\n",
            "dtype: int64\n"
          ]
        }
      ]
    },
    {
      "cell_type": "code",
      "source": [
        "threshold = 0.5\n",
        "\n",
        "# Calculate the threshold in terms of number of rows\n",
        "row_count = len(df)\n",
        "column_threshold = row_count * threshold\n",
        "\n",
        "# Drop columns where missing values > 50%\n",
        "df_cleaned = df.loc[:, df.isnull().sum() <= column_threshold]\n",
        "\n",
        "# Show dropped columns\n",
        "dropped_columns = df.columns[df.isnull().sum() > column_threshold]\n",
        "print(f\"Columns dropped (more than 50% missing): {list(dropped_columns)}\")"
      ],
      "metadata": {
        "colab": {
          "base_uri": "https://localhost:8080/"
        },
        "id": "OWyrKPX4IEFf",
        "outputId": "c708ddf9-6bf6-48b6-86cf-d4aa8b07e3d2"
      },
      "execution_count": 4,
      "outputs": [
        {
          "output_type": "stream",
          "name": "stdout",
          "text": [
            "Columns dropped (more than 50% missing): ['New_Price']\n"
          ]
        }
      ]
    },
    {
      "cell_type": "code",
      "source": [
        "# Display remaining missing values\n",
        "print( df_cleaned.isnull().sum())"
      ],
      "metadata": {
        "colab": {
          "base_uri": "https://localhost:8080/"
        },
        "id": "46MOWKFTIUdv",
        "outputId": "5352a7ce-b903-4d26-ec0a-1a6adca84b2e"
      },
      "execution_count": 5,
      "outputs": [
        {
          "output_type": "stream",
          "name": "stdout",
          "text": [
            "Unnamed: 0            0\n",
            "Name                  0\n",
            "Location              0\n",
            "Year                  0\n",
            "Kilometers_Driven     0\n",
            "Fuel_Type             0\n",
            "Transmission          0\n",
            "Owner_Type            0\n",
            "Mileage               2\n",
            "Engine               36\n",
            "Power                36\n",
            "Seats                38\n",
            "Price                 0\n",
            "dtype: int64\n"
          ]
        }
      ]
    },
    {
      "cell_type": "markdown",
      "source": [
        "##b) Remove the units from some of the attributes and only keep the numerical values (for example remove kmpl from “Mileage”, CC from “Engine”, bhp from “Power”, and lakh from “New_price”)."
      ],
      "metadata": {
        "id": "rgrVdAcOJOzn"
      }
    },
    {
      "cell_type": "code",
      "source": [
        "# Function to extract numeric part using regex\n",
        "def extract_numeric(value):\n",
        "    if pd.isnull(value):\n",
        "        return np.nan\n",
        "    match = re.search(r\"[\\d.]+\", str(value))\n",
        "    return float(match.group()) if match else np.nan\n",
        "\n",
        "# Apply to relevant columns\n",
        "df['Mileage'] = df['Mileage'].apply(extract_numeric)\n",
        "df['Engine'] = df['Engine'].apply(extract_numeric)\n",
        "df['Power'] = df['Power'].apply(extract_numeric)\n",
        "\n",
        "# Special case for 'New_Price' (handle 'null' and remove 'Lakh')\n",
        "df['New_Price'] = df['New_Price'].replace('null', np.nan)\n",
        "df['New_Price'] = df['New_Price'].apply(extract_numeric)\n"
      ],
      "metadata": {
        "id": "3ktngkNuJo-e"
      },
      "execution_count": 6,
      "outputs": []
    },
    {
      "cell_type": "code",
      "source": [
        "# Preview cleaned data\n",
        "print(df[['Mileage', 'Engine', 'Power', 'New_Price']].head())"
      ],
      "metadata": {
        "colab": {
          "base_uri": "https://localhost:8080/"
        },
        "id": "LGikDT6OJwsR",
        "outputId": "1ba20dd6-6433-44e9-8cd7-0a042eb118ec"
      },
      "execution_count": 7,
      "outputs": [
        {
          "output_type": "stream",
          "name": "stdout",
          "text": [
            "   Mileage  Engine   Power  New_Price\n",
            "0    19.67  1582.0  126.20        NaN\n",
            "1    13.00  1199.0   88.70       8.61\n",
            "2    20.77  1248.0   88.76        NaN\n",
            "3    15.20  1968.0  140.80        NaN\n",
            "4    23.08  1461.0   63.10        NaN\n"
          ]
        }
      ]
    },
    {
      "cell_type": "markdown",
      "source": [
        "##C) Change the categorical variables (“Fuel_Type” and “Transmission”) into numerical one hot encoded value.  "
      ],
      "metadata": {
        "id": "BO37FBPJJ0Jq"
      }
    },
    {
      "cell_type": "code",
      "source": [
        "# One-hot encode 'Fuel_Type' and 'Transmission'\n",
        "df_encoded = pd.get_dummies(df, columns=['Fuel_Type', 'Transmission'], drop_first=True)\n",
        "\n",
        "# Show the new columns\n",
        "print(df_encoded.columns)\n",
        "print(df_encoded.head())\n"
      ],
      "metadata": {
        "colab": {
          "base_uri": "https://localhost:8080/"
        },
        "id": "Z6OO5xFRJ0iz",
        "outputId": "6b9b7651-7889-426d-866f-250f4f7d25ba"
      },
      "execution_count": 8,
      "outputs": [
        {
          "output_type": "stream",
          "name": "stdout",
          "text": [
            "Index(['Unnamed: 0', 'Name', 'Location', 'Year', 'Kilometers_Driven',\n",
            "       'Owner_Type', 'Mileage', 'Engine', 'Power', 'Seats', 'New_Price',\n",
            "       'Price', 'Fuel_Type_Electric', 'Fuel_Type_Petrol',\n",
            "       'Transmission_Manual'],\n",
            "      dtype='object')\n",
            "   Unnamed: 0                              Name    Location  Year  \\\n",
            "0           1  Hyundai Creta 1.6 CRDi SX Option        Pune  2015   \n",
            "1           2                      Honda Jazz V     Chennai  2011   \n",
            "2           3                 Maruti Ertiga VDI     Chennai  2012   \n",
            "3           4   Audi A4 New 2.0 TDI Multitronic  Coimbatore  2013   \n",
            "4           6            Nissan Micra Diesel XV      Jaipur  2013   \n",
            "\n",
            "   Kilometers_Driven Owner_Type  Mileage  Engine   Power  Seats  New_Price  \\\n",
            "0              41000      First    19.67  1582.0  126.20    5.0        NaN   \n",
            "1              46000      First    13.00  1199.0   88.70    5.0       8.61   \n",
            "2              87000      First    20.77  1248.0   88.76    7.0        NaN   \n",
            "3              40670     Second    15.20  1968.0  140.80    5.0        NaN   \n",
            "4              86999      First    23.08  1461.0   63.10    5.0        NaN   \n",
            "\n",
            "   Price  Fuel_Type_Electric  Fuel_Type_Petrol  Transmission_Manual  \n",
            "0  12.50               False             False                 True  \n",
            "1   4.50               False              True                 True  \n",
            "2   6.00               False             False                 True  \n",
            "3  17.74               False             False                False  \n",
            "4   3.50               False             False                 True  \n"
          ]
        }
      ]
    },
    {
      "cell_type": "markdown",
      "source": [
        "##d) Create one more feature and add this column to the dataset (you can use mutate function in R for this). For example, you can calculate the current age of the car by subtracting “Year” value from the current year.   "
      ],
      "metadata": {
        "id": "52Wiu3Z1KQFx"
      }
    },
    {
      "cell_type": "code",
      "source": [
        "# Get the current year\n",
        "current_year = datetime.now().year\n",
        "\n",
        "# Create new feature: Car_Age\n",
        "df['Car_Age'] = current_year - df['Year']\n",
        "\n",
        "# Show the updated dataframe\n",
        "print(df[['Year', 'Car_Age']].head())"
      ],
      "metadata": {
        "colab": {
          "base_uri": "https://localhost:8080/"
        },
        "id": "EDhqMc3fKQbj",
        "outputId": "9998878a-2d9c-4bea-da13-e7903491722b"
      },
      "execution_count": 9,
      "outputs": [
        {
          "output_type": "stream",
          "name": "stdout",
          "text": [
            "   Year  Car_Age\n",
            "0  2015       10\n",
            "1  2011       14\n",
            "2  2012       13\n",
            "3  2013       12\n",
            "4  2013       12\n"
          ]
        }
      ]
    },
    {
      "cell_type": "markdown",
      "source": [
        "##e) Perform select, filter, rename, mutate, arrange and summarize with group by operations (or their equivalent operations in python) on this dataset."
      ],
      "metadata": {
        "id": "CWBWVl1TKkc_"
      }
    },
    {
      "cell_type": "markdown",
      "source": [
        "###Select"
      ],
      "metadata": {
        "id": "JSeclheiTJzV"
      }
    },
    {
      "cell_type": "code",
      "source": [
        "df_selected = df[['Name', 'Location', 'Fuel_Type', 'Transmission', 'Car_Age', 'Mileage', 'Price']]\n",
        "print(\"\\nSelected columns:\\n\", df_selected.head())\n"
      ],
      "metadata": {
        "colab": {
          "base_uri": "https://localhost:8080/"
        },
        "id": "X9YkM6xyTLqR",
        "outputId": "1913a0f2-7a3a-4e65-cac8-4152e3b12ccc"
      },
      "execution_count": 10,
      "outputs": [
        {
          "output_type": "stream",
          "name": "stdout",
          "text": [
            "\n",
            "Selected columns:\n",
            "                                Name    Location Fuel_Type Transmission  \\\n",
            "0  Hyundai Creta 1.6 CRDi SX Option        Pune    Diesel       Manual   \n",
            "1                      Honda Jazz V     Chennai    Petrol       Manual   \n",
            "2                 Maruti Ertiga VDI     Chennai    Diesel       Manual   \n",
            "3   Audi A4 New 2.0 TDI Multitronic  Coimbatore    Diesel    Automatic   \n",
            "4            Nissan Micra Diesel XV      Jaipur    Diesel       Manual   \n",
            "\n",
            "   Car_Age  Mileage  Price  \n",
            "0       10    19.67  12.50  \n",
            "1       14    13.00   4.50  \n",
            "2       13    20.77   6.00  \n",
            "3       12    15.20  17.74  \n",
            "4       12    23.08   3.50  \n"
          ]
        }
      ]
    },
    {
      "cell_type": "markdown",
      "source": [
        "###Filter"
      ],
      "metadata": {
        "id": "SPJa7HmNTN_n"
      }
    },
    {
      "cell_type": "code",
      "source": [
        "df_filtered = df[df['Car_Age'] < 5]\n",
        "print(\"\\nFiltered cars (less than 5 years old):\\n\", df_filtered[['Name', 'Car_Age']].head())"
      ],
      "metadata": {
        "colab": {
          "base_uri": "https://localhost:8080/"
        },
        "id": "m1lnzNdiTRGt",
        "outputId": "30435ad5-ebe7-4003-c695-0b296c25fb2b"
      },
      "execution_count": 11,
      "outputs": [
        {
          "output_type": "stream",
          "name": "stdout",
          "text": [
            "\n",
            "Filtered cars (less than 5 years old):\n",
            " Empty DataFrame\n",
            "Columns: [Name, Car_Age]\n",
            "Index: []\n"
          ]
        }
      ]
    },
    {
      "cell_type": "markdown",
      "source": [
        "###Rename"
      ],
      "metadata": {
        "id": "gd6qGUmNTSLO"
      }
    },
    {
      "cell_type": "code",
      "source": [
        "df_renamed = df.rename(columns={'Price': 'Selling_Price'})\n",
        "print(\"\\nRenamed column 'Price' to 'Selling_Price':\\n\", df_renamed[['Selling_Price']].head())\n"
      ],
      "metadata": {
        "colab": {
          "base_uri": "https://localhost:8080/"
        },
        "id": "STsu9FFJTVgd",
        "outputId": "b65e31c2-3f43-48c4-e786-507075c328ae"
      },
      "execution_count": 12,
      "outputs": [
        {
          "output_type": "stream",
          "name": "stdout",
          "text": [
            "\n",
            "Renamed column 'Price' to 'Selling_Price':\n",
            "    Selling_Price\n",
            "0          12.50\n",
            "1           4.50\n",
            "2           6.00\n",
            "3          17.74\n",
            "4           3.50\n"
          ]
        }
      ]
    },
    {
      "cell_type": "markdown",
      "source": [
        "###Mutate"
      ],
      "metadata": {
        "id": "YFiZK02hTXwn"
      }
    },
    {
      "cell_type": "code",
      "source": [
        "df_renamed['Mileage_per_Year'] = df_renamed['Kilometers_Driven'] / df_renamed['Car_Age']\n",
        "print(\"\\nNew column 'Mileage_per_Year':\\n\", df_renamed[['Kilometers_Driven', 'Car_Age', 'Mileage_per_Year']].head())\n"
      ],
      "metadata": {
        "colab": {
          "base_uri": "https://localhost:8080/"
        },
        "id": "y5VK7UQ_TXMh",
        "outputId": "ae05ecb1-9096-4cd9-edc2-3c921cf541c0"
      },
      "execution_count": 13,
      "outputs": [
        {
          "output_type": "stream",
          "name": "stdout",
          "text": [
            "\n",
            "New column 'Mileage_per_Year':\n",
            "    Kilometers_Driven  Car_Age  Mileage_per_Year\n",
            "0              41000       10       4100.000000\n",
            "1              46000       14       3285.714286\n",
            "2              87000       13       6692.307692\n",
            "3              40670       12       3389.166667\n",
            "4              86999       12       7249.916667\n"
          ]
        }
      ]
    },
    {
      "cell_type": "markdown",
      "source": [
        "###Arrange"
      ],
      "metadata": {
        "id": "aW3V3oIeTayR"
      }
    },
    {
      "cell_type": "code",
      "source": [
        "df_arranged = df_renamed.sort_values(by='Selling_Price', ascending=False)\n",
        "print(\"\\nArranged by Selling_Price (Descending):\\n\", df_arranged[['Name', 'Selling_Price']].head())"
      ],
      "metadata": {
        "colab": {
          "base_uri": "https://localhost:8080/"
        },
        "id": "A7aulT9gTcU1",
        "outputId": "0e9112b2-4cee-4910-ff1d-25ef2bb7a72c"
      },
      "execution_count": 14,
      "outputs": [
        {
          "output_type": "stream",
          "name": "stdout",
          "text": [
            "\n",
            "Arranged by Selling_Price (Descending):\n",
            "                                              Name  Selling_Price\n",
            "3952  Land Rover Range Rover 3.0 Diesel LWB Vogue         160.00\n",
            "5620                   Lamborghini Gallardo Coupe         120.00\n",
            "5752                       Jaguar F Type 5.0 V8 S         100.00\n",
            "1457              Land Rover Range Rover Sport SE          97.07\n",
            "1917                           BMW 7 Series 740Li          93.67\n"
          ]
        }
      ]
    },
    {
      "cell_type": "markdown",
      "source": [
        "###Summarize with Group By"
      ],
      "metadata": {
        "id": "qAGFRcnUTfrB"
      }
    },
    {
      "cell_type": "code",
      "source": [
        "df_summary = df_renamed.groupby('Location').agg(\n",
        "    Total_Cars=('Name', 'count'),\n",
        "    Avg_Selling_Price=('Selling_Price', 'mean'),\n",
        "    Max_Selling_Price=('Selling_Price', 'max')\n",
        ").reset_index()\n",
        "\n",
        "print(\"\\nGrouped Summary by Location:\\n\", df_summary)"
      ],
      "metadata": {
        "colab": {
          "base_uri": "https://localhost:8080/"
        },
        "id": "en-f9NIbKkzY",
        "outputId": "6786de43-34a3-4dbc-dbb7-eeb6bd311141"
      },
      "execution_count": 15,
      "outputs": [
        {
          "output_type": "stream",
          "name": "stdout",
          "text": [
            "\n",
            "Grouped Summary by Location:\n",
            "       Location  Total_Cars  Avg_Selling_Price  Max_Selling_Price\n",
            "0    Ahmedabad         218           8.567248              85.00\n",
            "1    Bangalore         352          13.482670              93.00\n",
            "2      Chennai         476           7.958340              70.00\n",
            "3   Coimbatore         631          15.160206              93.67\n",
            "4        Delhi         540           9.881944             120.00\n",
            "5    Hyderabad         710           9.997423             160.00\n",
            "6       Jaipur         403           5.916725              42.50\n",
            "7        Kochi         640          11.309109              97.07\n",
            "8      Kolkata         525           5.733924              75.00\n",
            "9       Mumbai         762           9.592546              75.00\n",
            "10        Pune         590           6.951000              68.00\n"
          ]
        }
      ]
    }
  ]
}